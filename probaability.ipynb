{
 "cells": [
  {
   "cell_type": "markdown",
   "id": "6bc47e86",
   "metadata": {},
   "source": [
    "Q1. In a school of 200 students, 120 like math and 80 like science. 50 like both math and science.\n",
    "What is the probability that a randomly selected student likes both subjects?\n"
   ]
  },
  {
   "cell_type": "code",
   "execution_count": 3,
   "id": "c041052e",
   "metadata": {},
   "outputs": [
    {
     "name": "stdout",
     "output_type": "stream",
     "text": [
      "Probability of Liking of Math & Scince: 0.25\n"
     ]
    }
   ],
   "source": [
    "\n",
    "students_total = 200\n",
    "student_math = 120\n",
    "student_science = 80\n",
    "t_MathScience = 50\n",
    "\n",
    "t_Mprob = student_math/students_total\n",
    "t_Sprob = student_science/students_total\n",
    "\n",
    "t_MSprob = t_MathScience/students_total\n",
    "print(f\"Probability of Liking of Math & Scince: {t_MSprob:.2f}\")"
   ]
  },
  {
   "cell_type": "markdown",
   "id": "462c6062",
   "metadata": {},
   "source": [
    "Q2. A factory produces 60% of items from Machine A and 40% from Machine B. Machine A has a 5% defect rate, and Machine B has a 10% defect rate.\n",
    "If an item is found defective, what is the probability it came from Machine B?\n",
    "\n",
    "let assume :\n",
    "     A       B \\n\n",
    "P() 0.60   0.40\n",
    "P(D|) 0.05   0.10\n",
    "\n",
    "P(B|D) = P(B)*P(D|B)/P(A)*P(D|B) +P(B)*P(D|B)\n",
    "P(B|D) = 0.40*0.10/(0.60*0.05+0.40*0.10) = 0.10/0.20 = 0.5\n",
    "so probability of defective item is from B is 0.5"
   ]
  },
  {
   "cell_type": "code",
   "execution_count": null,
   "id": "6fbf6934",
   "metadata": {},
   "outputs": [
    {
     "name": "stdout",
     "output_type": "stream",
     "text": [
      "An item is found defective, the probability it came from Machine B0.57\n"
     ]
    }
   ],
   "source": [
    "defect_A = 0.05\n",
    "defect_B = 0.10\n",
    "p_A = 0.60\n",
    "p_B = 0.40\n",
    "\n",
    "P_BD = p_B * defect_B / (p_B * defect_B + p_A * defect_A)\n",
    "print(f\"An item is found defective, the probability it came from Machine B: {P_BD:.2f}\")\n"
   ]
  },
  {
   "cell_type": "markdown",
   "id": "7050f571",
   "metadata": {},
   "source": [
    "Q3. A basket contains 6 apples and 4 oranges. One fruit is picked at random.\n",
    "What is the probability it is an orange?\n",
    "One Fruit is picked at random and it is orange(out of 10) = 4\n",
    "Answer: 4/10 = 2/5"
   ]
  },
  {
   "cell_type": "code",
   "execution_count": null,
   "id": "ae68a7ec",
   "metadata": {},
   "outputs": [
    {
     "name": "stdout",
     "output_type": "stream",
     "text": [
      "0.4\n"
     ]
    }
   ],
   "source": [
    "orange = 4 \n",
    "total_friut = 10\n",
    "picked_orange = orange/total_friut\n",
    "print(f\"One Fruit is picked at random and it is orange: {picked_orange}\")"
   ]
  },
  {
   "cell_type": "markdown",
   "id": "a13d2ab9",
   "metadata": {},
   "source": [
    "Q4. A test is 90% accurate. 1 in 100 people has a certain condition.\n",
    "A person tests positive. What is the probability they actually have the condition?\n",
    "\n",
    "P(T|A) = 0.90\n",
    "P(T|N_A)  = 0.10\n",
    "P(A) = 0.01\n",
    "P(N_A) = 0.99\n",
    "\n",
    "P(A|T) = P(A)*P(T|A)/P(A)*P(T|A)+P(B)*P(T|B)\n",
    "P(A|T) = 0.083\n"
   ]
  },
  {
   "cell_type": "code",
   "execution_count": 7,
   "id": "27352365",
   "metadata": {},
   "outputs": [
    {
     "name": "stdout",
     "output_type": "stream",
     "text": [
      "0.083\n"
     ]
    }
   ],
   "source": [
    "TestisAcc = 0.90\n",
    "TestisnotAcc  = 0.10\n",
    "AccofTest = 0.01\n",
    "NAccofTest = 0.99\n",
    "\n",
    "P_AofT = AccofTest*TestisAcc/((AccofTest*TestisAcc)+(NAccofTest*TestisnotAcc))\n",
    "print(f\"{P_AofT:.3f}\")\n"
   ]
  },
  {
   "cell_type": "markdown",
   "id": "bf93d4cb",
   "metadata": {},
   "source": [
    "Q5. In a company of 300 employees, 180 can code in Python, 100 can code in Java, and 50 can code in both languages.\n",
    "What is the probability that an employee can code in Python or Java?\n",
    "\n",
    "P(P U J) = ?\n",
    "Solution:\n",
    "P(P U J) = P(P) + P(J) - P(P int B) //Axiom for Non Mutual Event\n",
    "P(P int J) = P(P) + P(J) - P(P U B) //Axiom for Non Mutual Event\n",
    "P(P int J) = 0.77"
   ]
  },
  {
   "cell_type": "code",
   "execution_count": 9,
   "id": "90089667",
   "metadata": {},
   "outputs": [
    {
     "name": "stdout",
     "output_type": "stream",
     "text": [
      "The probability that an employee can code in Python or Java: 0.77\n"
     ]
    }
   ],
   "source": [
    "JavaEmp = 100\n",
    "PyEmp  = 180\n",
    "J_PyEmp = 50\n",
    "T_Emp = 300\n",
    "JorPyEmp = JavaEmp + PyEmp - J_PyEmp\n",
    "P_JorPyEmp = JorPyEmp/T_Emp\n",
    "\n",
    "print(f\"The probability that an employee can code in Python or Java: {P_JorPyEmp:.2f}\")\n"
   ]
  },
  {
   "cell_type": "markdown",
   "id": "f8c39fdf",
   "metadata": {},
   "source": [
    "Q6. The probability that it rains today is 0.6. The probability that you carry an umbrella given it rains is 0.9.\n",
    "What is the probability that it rains and you carry an umbrella?\n",
    "\n",
    "Solution:\n",
    "P(R) = 0.60\n",
    "P(U|R) = 0.90\n",
    "\n",
    "P(R|U) = P(R)*P(U|R)\n"
   ]
  },
  {
   "cell_type": "code",
   "execution_count": null,
   "id": "429a9bd7",
   "metadata": {},
   "outputs": [
    {
     "name": "stdout",
     "output_type": "stream",
     "text": [
      "The probability that it rains and you carry an umbrella: 0.93\n"
     ]
    }
   ],
   "source": [
    "prob_R = 0.60\n",
    "prob_UR = 0.90\n",
    "\n",
    "probRU = prob_R*prob_UR\n",
    "print(f\"The probability that it rains and you carry an umbrella: {probRU:.2f}\")"
   ]
  },
  {
   "cell_type": "markdown",
   "id": "ec037da0",
   "metadata": {},
   "source": [
    "Q7. In a class, 70% of students passed the exam. Of those who passed, 80% studied the night before.\n",
    "What is the probability a student studied the night before given they passed the exam?\n"
   ]
  },
  {
   "cell_type": "code",
   "execution_count": 1,
   "id": "5bbf23fa",
   "metadata": {},
   "outputs": [
    {
     "data": {
      "text/plain": [
       "0.8615384615384616"
      ]
     },
     "execution_count": 1,
     "metadata": {},
     "output_type": "execute_result"
    }
   ],
   "source": [
    "prb_passorstd = 0.70\n",
    "prb_passornight = 0.80\n",
    "prb_passnotnight = 0.20\n",
    "prb_notpass = 0.3\n",
    "\n",
    "probofnight_pss = prb_passorstd*prb_passornight/(prb_passorstd*prb_passornight+prb_notpass*prb_notpass)\n",
    "probofnight_pss "
   ]
  },
  {
   "cell_type": "markdown",
   "id": "2bbefdef",
   "metadata": {},
   "source": [
    "## Q8. You roll two fair dice. What is the probability that the sum is 7?\n",
    "\n",
    "The total possible outcomes when rolling two dice is \\(6 \\times 6 = 36\\).\n",
    "\n",
    "The favorable outcomes for the sum being 7 are:\n",
    "- (1, 6), (2, 5), (3, 4), (4, 3), (5, 2), (6, 1)\n",
    "\n",
    "Thus, the probability is:\n",
    "\n",
    "\\[\n",
    "P(\\text{sum is 7}) = \\frac{6}{36} = \\frac{1}{6}\n",
    "\\]\n",
    "\n"
   ]
  },
  {
   "cell_type": "code",
   "execution_count": null,
   "id": "5f07a044",
   "metadata": {},
   "outputs": [],
   "source": [
    "# Q8 solution in Python\n",
    "total_outcomes = 6 * 6\n",
    "favorable_outcomes = 6\n",
    "probability_sum_7 = favorable_outcomes / total_outcomes\n",
    "probability_sum_7"
   ]
  },
  {
   "cell_type": "markdown",
   "id": "abade4ec",
   "metadata": {},
   "source": [
    "\n",
    "\n",
    "## Q9. A bag contains 3 red, 2 green, and 5 blue balls. One ball is drawn randomly. What is the probability that it is either red or green?\n",
    "\n",
    "The total number of balls is \\(3 + 2 + 5 = 10\\).\n",
    "\n",
    "The favorable outcomes for drawing a red or green ball are:\n",
    "\\(3 (\\text{red}) + 2 (\\text{green}) = 5\\).\n",
    "\n",
    "Thus, the probability is:\n",
    "\n",
    "\\[\n",
    "P(\\text{red or green}) = \\frac{5}{10} = \\frac{1}{2}\n",
    "\\]\n",
    "\n",
    "\n",
    "\n"
   ]
  },
  {
   "cell_type": "code",
   "execution_count": null,
   "id": "3e94dca1",
   "metadata": {},
   "outputs": [],
   "source": [
    "# Q9 solution in Python\n",
    "total_balls = 3 + 2 + 5\n",
    "favorable_balls = 3 + 2\n",
    "probability_red_or_green = favorable_balls / total_balls\n",
    "probability_red_or_green"
   ]
  },
  {
   "cell_type": "markdown",
   "id": "bd2b7369",
   "metadata": {},
   "source": [
    "---\n",
    "\n",
    "## Q10. In a city, 30% of the population uses public transport. Of these, 60% are students. What is the probability that a randomly selected person is a student who uses public transport?\n",
    "\n",
    "We are given:\n",
    "- \\( P(\\text{public transport}) = 0.30 \\)\n",
    "- \\( P(\\text{student | public transport}) = 0.60 \\)\n",
    "\n",
    "The probability is:\n",
    "\n",
    "\\[\n",
    "P(\\text{student and public transport}) = P(\\text{public transport}) \\times P(\\text{student | public transport}) = 0.30 \\times 0.60 = 0.18\n",
    "\\]\n"
   ]
  },
  {
   "cell_type": "code",
   "execution_count": null,
   "id": "1aae0bb0",
   "metadata": {},
   "outputs": [],
   "source": [
    "# Q10 solution in Python\n",
    "p_public_transport = 0.30\n",
    "p_student_given_public_transport = 0.60\n",
    "probability_student_and_public_transport = p_public_transport * p_student_given_public_transport\n",
    "probability_student_and_public_transport\n"
   ]
  },
  {
   "cell_type": "markdown",
   "id": "4514f715",
   "metadata": {},
   "source": [
    "## Q11. In a survey, 40% of participants like tea, 50% like coffee, and 20% like both. What is the probability a person likes at least one of the two drinks?\n",
    "\n",
    "Let:\n",
    "- \\( P(\\text{tea}) = 0.40 \\)\n",
    "- \\( P(\\text{coffee}) = 0.50 \\)\n",
    "- \\( P(\\text{both tea and coffee}) = 0.20 \\)\n",
    "\n",
    "The probability that a person likes at least one of the drinks is:\n",
    "\n",
    "\\[\n",
    "P(\\text{tea or coffee}) = P(\\text{tea}) + P(\\text{coffee}) - P(\\text{both tea and coffee}) = 0.40 + 0.50 - 0.20 = 0.70\n",
    "\\]"
   ]
  },
  {
   "cell_type": "code",
   "execution_count": null,
   "id": "bf4739c2",
   "metadata": {},
   "outputs": [],
   "source": [
    "# Q11 solution in Python\n",
    "p_tea = 0.40\n",
    "p_coffee = 0.50\n",
    "p_both = 0.20\n",
    "probability_tea_or_coffee = p_tea + p_coffee - p_both\n",
    "probability_tea_or_coffee"
   ]
  },
  {
   "cell_type": "markdown",
   "id": "682f8b19",
   "metadata": {},
   "source": [
    "\n",
    "## Q12. A fair coin is flipped three times. What is the probability of getting exactly two heads?\n",
    "\n",
    "The total number of possible outcomes is \\(2^3 = 8\\).\n",
    "\n",
    "The favorable outcomes for exactly two heads (HHT, HTH, THH) are 3 outcomes.\n",
    "\n",
    "Thus, the probability is:\n",
    "\n",
    "\\[\n",
    "P(\\text{exactly two heads}) = \\frac{3}{8}\n",
    "\\]\n"
   ]
  },
  {
   "cell_type": "code",
   "execution_count": null,
   "id": "39452a58",
   "metadata": {},
   "outputs": [],
   "source": [
    "# Q12 solution in Python\n",
    "total_outcomes_coin_flip = 2 ** 3\n",
    "favorable_outcomes_coin_flip = 3\n",
    "probability_two_heads = favorable_outcomes_coin_flip / total_outcomes_coin_flip\n",
    "probability_two_heads"
   ]
  },
  {
   "cell_type": "markdown",
   "id": "7ea7ef47",
   "metadata": {},
   "source": [
    "## Q13. A company has a dataset of customer feedback on a new product. 50% of customers who bought the product provided positive feedback, and 60% of customers who provided positive feedback also made a second purchase. If a customer made a second purchase, what is the probability that they provided positive feedback?\n",
    "\n",
    "Let:\n",
    "- \\( P(\\text{positive feedback}) = 0.50 \\)\n",
    "- \\( P(\\text{second purchase | positive feedback}) = 0.60 \\)\n",
    "\n",
    "We can use Bayes' Theorem to find the probability:\n"
   ]
  },
  {
   "cell_type": "code",
   "execution_count": null,
   "id": "6faea730",
   "metadata": {},
   "outputs": [],
   "source": [
    "# Q13 solution in Python\n",
    "p_positive_feedback = 0.50\n",
    "p_second_purchase_given_positive = 0.60\n",
    "# Assuming the second purchase probability can be calculated here (missing additional data)\n",
    "# Using Bayes' theorem if needed\n"
   ]
  },
  {
   "cell_type": "markdown",
   "id": "9412d774",
   "metadata": {},
   "source": [
    "## Q14. A survey shows that 40% of people prefer vegetarian food, 35% prefer non-vegetarian food, and 20% like both. What is the probability that a randomly selected person likes vegetarian or non-vegetarian food?\n",
    "\n",
    "Let:\n",
    "- \\( P(\\text{vegetarian}) = 0.40 \\)\n",
    "- \\( P(\\text{non-vegetarian}) = 0.35 \\)\n",
    "- \\( P(\\text{both}) = 0.20 \\)\n",
    "\n",
    "The probability that a person likes either vegetarian or non-vegetarian food is:\n",
    "\n",
    "\\[\n",
    "P(\\text{vegetarian or non-vegetarian}) = P(\\text{vegetarian}) + P(\\text{non-vegetarian}) - P(\\text{both}) = 0.40 + 0.35 - 0.20 = 0.55\n",
    "\\]"
   ]
  },
  {
   "cell_type": "code",
   "execution_count": null,
   "id": "723a0d5d",
   "metadata": {},
   "outputs": [],
   "source": [
    "# Q14 solution in Python\n",
    "p_vegetarian = 0.40\n",
    "p_non_vegetarian = 0.35\n",
    "p_both_vegetarian_non_vegetarian = 0.20\n",
    "probability_vegetarian_or_non_vegetarian = p_vegetarian + p_non_vegetarian - p_both_vegetarian_non_vegetarian\n",
    "probability_vegetarian_or_non_vegetarian\n"
   ]
  },
  {
   "cell_type": "markdown",
   "id": "4dff3189",
   "metadata": {},
   "source": [
    "## Q15. In a dataset of 1000 customers, 300 are repeat buyers, 400 are new buyers, and 200 of the repeat buyers also registered for a loyalty program. What is the probability that a customer is both a repeat buyer and a member of the loyalty program?\n",
    "\n",
    "The total number of customers is 1000, and the number of repeat buyers who are also in the loyalty program is 200.\n",
    "\n",
    "Thus, the probability is:\n",
    "\n",
    "\\[\n",
    "P(\\text{repeat buyer and loyalty program}) = \\frac{200}{1000} = 0.20\n",
    "\\]\n"
   ]
  },
  {
   "cell_type": "code",
   "execution_count": null,
   "id": "c762f311",
   "metadata": {},
   "outputs": [],
   "source": [
    "# Q15 solution in Python\n",
    "total_customers = 1000\n",
    "repeat_buyers_loyalty_program = 200\n",
    "probability_repeat_and_loyalty = repeat_buyers_loyalty_program / total_customers\n",
    "probability_repeat_and_loyalty\n"
   ]
  },
  {
   "cell_type": "markdown",
   "id": "68f97085",
   "metadata": {},
   "source": [
    "\n",
    "## Q16. A healthcare dataset shows that 90% of people who exercise regularly have a lower risk of heart disease, while only 10% of people who don’t exercise regularly have a lower risk. If 60% of people in the dataset exercise regularly, what is the probability that a randomly selected person has a lower risk of heart disease?\n",
    "\n",
    "Let:\n",
    "- \\( P(\\text{lower risk | exercise}) = 0.90 \\)\n",
    "- \\( P(\\text{lower risk | no exercise}) = 0.10 \\)\n",
    "- \\( P(\\text{exercise}) = 0.60 \\)\n",
    "- \\( P(\\text{no exercise}) = 0.40 \\)\n",
    "\n",
    "Using the law of total probability:\n",
    "\n",
    "\\[\n",
    "P(\\text{lower risk}) = P(\\text{lower risk | exercise}) \\times P(\\text{exercise}) + P(\\text{lower risk | no exercise}) \\times P(\\text{no exercise})\n",
    "\\]"
   ]
  },
  {
   "cell_type": "code",
   "execution_count": null,
   "id": "15f71cb9",
   "metadata": {},
   "outputs": [],
   "source": [
    "# Q16 solution in Python\n",
    "p_lower_risk_given_exercise = 0.90\n",
    "p_lower_risk_given_no_exercise = 0.10\n",
    "p_exercise = 0.60\n",
    "p_no_exercise = 0.40\n",
    "probability_lower_risk = (p_lower_risk_given_exercise * p_exercise) + (p_lower_risk_given_no_exercise * p_no_exercise)\n",
    "probability_lower_risk"
   ]
  },
  {
   "cell_type": "markdown",
   "id": "6f478c34",
   "metadata": {},
   "source": [
    "\n",
    "## Q17. In a dataset of 500 students, 150 are enrolled in both Computer Science and Mathematics courses, 250 are enrolled only in Computer Science, and 100 are enrolled only in Mathematics. What is the probability that a randomly selected student is enrolled in either Computer Science or Mathematics?\n",
    "\n",
    "Let:\n",
    "- \\( P(\\text{CS only}) = 250 \\)\n",
    "- \\( P(\\text{Math only}) = 100 \\)\n",
    "- \\( P(\\text{both CS and Math}) = 150 \\)\n",
    "\n",
    "The total number of students is 500, and the number of students enrolled in either Computer Science or Mathematics is:\n",
    "\n",
    "\\[\n",
    "P(\\text{CS or Math}) = P(\\text{CS only}) + P(\\text{Math only}) + P(\\text{both CS and Math}) = 250 + 100 + 150 = 500\n",
    "\\]\n",
    "\n",
    "Thus, the probability is:\n",
    "\n",
    "\\[\n",
    "P(\\text{CS or Math}) = \\frac{500}{500} = 1\n",
    "\\]"
   ]
  },
  {
   "cell_type": "code",
   "execution_count": null,
   "id": "4ce636ab",
   "metadata": {},
   "outputs": [],
   "source": [
    "# Q17 solution in Python\n",
    "total_students = 500\n",
    "p_cs_only = 250\n",
    "p_math_only = 100\n",
    "p_both_cs_math = 150\n",
    "probability_cs_or_math = (p_cs_only + p_math_only + p_both_cs_math) / total_students\n",
    "probability_cs_or_math\n"
   ]
  },
  {
   "cell_type": "markdown",
   "id": "42061446",
   "metadata": {},
   "source": [
    "## Q18. A company tracks employee performance, and 30% of employees exceed expectations, while 50% of employees with excellent performance also receive a promotion. What is the probability that an employee receives a promotion, given that they exceed expectations?\n",
    "\n",
    "This question seems incomplete, as there is no direct relationship between exceeding expectations and receiving a promotion. Can you clarify the additional information?\n"
   ]
  },
  {
   "cell_type": "code",
   "execution_count": null,
   "id": "3a684ad0",
   "metadata": {},
   "outputs": [],
   "source": [
    "# Placeholder for Q18, awaiting clarification\n"
   ]
  },
  {
   "cell_type": "markdown",
   "id": "a67fbff0",
   "metadata": {},
   "source": [
    "## Q19. A data analysis shows that 25% of people who take an online quiz also complete a survey at the end, and 40% of people who complete the survey also share their results on social media. What is the probability that a person takes the quiz and shares their results on social media?\n",
    "\n",
    "Let:\n",
    "- \\( P(\\text{survey | quiz}) = 0.25 \\)\n",
    "- \\( P(\\text{social media | survey}) = 0.40 \\)\n",
    "\n",
    "The probability that a person takes the quiz and shares their results on social media is:\n",
    "\n",
    "\\[\n",
    "P(\\text{quiz and social media}) = P(\\text{survey | quiz}) \\times P(\\text{social media | survey\n",
    "\n",
    "})\n",
    "\\]\n",
    "\n"
   ]
  },
  {
   "cell_type": "code",
   "execution_count": null,
   "id": "3cb66d0c",
   "metadata": {},
   "outputs": [],
   "source": [
    "\n",
    "# Q19 solution in Python\n",
    "p_survey_given_quiz = 0.25\n",
    "p_social_media_given_survey = 0.40\n",
    "probability_quiz_and_social_media = p_survey_given_quiz * p_social_media_given_survey\n",
    "probability_quiz_and_social_media\n"
   ]
  },
  {
   "cell_type": "markdown",
   "id": "29d1aa78",
   "metadata": {},
   "source": [
    "## Q20. In a dataset of 500 people, 60% own a smartphone, 40% own a tablet, and 25% own both a smartphone and a tablet. What is the probability that a randomly selected person owns either a smartphone or a tablet?\n",
    "\n",
    "Let:\n",
    "- \\( P(\\text{smartphone}) = 0.60 \\)\n",
    "- \\( P(\\text{tablet}) = 0.40 \\)\n",
    "- \\( P(\\text{both}) = 0.25 \\)\n",
    "\n",
    "The probability that a person owns either a smartphone or a tablet is:\n",
    "\n",
    "\\[\n",
    "P(\\text{smartphone or tablet}) = P(\\text{smartphone}) + P(\\text{tablet}) - P(\\text{both})\n",
    "\\]\n",
    "\n",
    "\n",
    "\n"
   ]
  },
  {
   "cell_type": "code",
   "execution_count": 14,
   "id": "13fb8481",
   "metadata": {},
   "outputs": [
    {
     "data": {
      "text/plain": [
       "0.75"
      ]
     },
     "execution_count": 14,
     "metadata": {},
     "output_type": "execute_result"
    }
   ],
   "source": [
    "\n",
    "# Q20 solution in Python\n",
    "p_smartphone = 0.60\n",
    "p_tablet = 0.40\n",
    "p_both_smartphone_tablet = 0.25\n",
    "probability_smartphone_or_tablet = p_smartphone + p_tablet - p_both_smartphone_tablet\n",
    "probability_smartphone_or_tablet"
   ]
  },
  {
   "cell_type": "markdown",
   "id": "42885293",
   "metadata": {},
   "source": [
    "## Q21. A marketing team analyzes the behavior of customers who engage with a new promotional offer. 70% of customers who receive the offer visit the website, and 50% of those who visit the website make a purchase. What is the probability that a customer both visits the website and makes a purchase?\n",
    "\n",
    "Let:\n",
    "- \\( P(\\text{visit | offer}) = 0.70 \\)\n",
    "- \\( P(\\text{purchase | visit}) = 0.50 \\)\n",
    "\n",
    "The probability is:\n",
    "\n",
    "\\[\n",
    "P(\\text{visit and purchase}) = P(\\text{visit | offer}) \\times P(\\text{purchase | visit})\n",
    "\\]\n",
    "\n",
    "\n",
    "\n"
   ]
  },
  {
   "cell_type": "code",
   "execution_count": null,
   "id": "6aca071b",
   "metadata": {},
   "outputs": [],
   "source": [
    "\n",
    "# Q21 solution in Python\n",
    "p_visit_given_offer = 0.70\n",
    "p_purchase_given_visit = 0.50\n",
    "probability_visit_and_purchase = p_visit_given_offer * p_purchase_given_visit\n",
    "print(probability_visit_and_purchase)\n"
   ]
  },
  {
   "cell_type": "markdown",
   "id": "c1a2f826",
   "metadata": {},
   "source": [
    "## Q22. In a dataset of 1000 employees, 700 are satisfied with their job, and 500 of those employees are also highly productive. What is the probability that an employee is both satisfied with their job and highly productive?\n",
    "\n",
    "The total number of employees is 1000, and the number of satisfied and highly productive employees is 500.\n",
    "\n",
    "Thus, the probability is:\n",
    "\n",
    "\\[\n",
    "P(\\text{satisfied and highly productive}) = \\frac{500}{1000} = 0.50\n",
    "\\]\n",
    "\n",
    "\n"
   ]
  },
  {
   "cell_type": "code",
   "execution_count": null,
   "id": "ea893b8b",
   "metadata": {},
   "outputs": [],
   "source": [
    "\n",
    "# Q22 solution in Python\n",
    "total_employees = 1000\n",
    "satisfied_and_highly_productive = 500\n",
    "probability_satisfied_and_productive = satisfied_and_highly_productive / total_employees\n",
    "print(probability_satisfied_and_productive)\n"
   ]
  },
  {
   "cell_type": "markdown",
   "id": "a7828884",
   "metadata": {},
   "source": [
    "## Q23. A survey of 800 customers shows that 50% prefer product A, 30% prefer product B, and 20% prefer both. What is the probability that a customer prefers either product A or product B?\n",
    "\n",
    "Let:\n",
    "- \\( P(\\text{A}) = 0.50 \\)\n",
    "- \\( P(\\text{B}) = 0.30 \\)\n",
    "- \\( P(\\text{both}) = 0.20 \\)\n",
    "\n",
    "The probability that a customer prefers either product A or product B is:\n",
    "\n",
    "\\[\n",
    "P(\\text{A or B}) = P(\\text{A}) + P(\\text{B}) - P(\\text{both})\n",
    "\\]\n",
    "\n"
   ]
  },
  {
   "cell_type": "code",
   "execution_count": null,
   "id": "fe88d7f0",
   "metadata": {},
   "outputs": [],
   "source": [
    "# Q23 solution in Python\n",
    "p_a = 0.50\n",
    "p_b = 0.30\n",
    "p_both_ab = 0.20\n",
    "probability_a_or_b = p_a + p_b - p_both_ab\n",
    "print(probability_a_or_b)\n"
   ]
  },
  {
   "cell_type": "markdown",
   "id": "fb094a0b",
   "metadata": {},
   "source": [
    "\n",
    "## Q24. A dataset of students shows that 40% of students excel in Math, 30% excel in Science, and 15% excel in both subjects. What is the probability that a randomly selected student excels in at least one of the subjects?\n",
    "\n",
    "Let:\n",
    "- \\( P(\\text{Math}) = 0.40 \\)\n",
    "- \\( P(\\text{Science}) = 0.30 \\)\n",
    "- \\( P(\\text{both Math and Science}) = 0.15 \\)\n",
    "\n",
    "The probability that a student excels in at least one subject is:\n",
    "\n",
    "\\[\n",
    "P(\\text{Math or Science}) = P(\\text{Math}) + P(\\text{Science}) - P(\\text{both Math and Science})\n",
    "\\]\n",
    "\n"
   ]
  },
  {
   "cell_type": "code",
   "execution_count": null,
   "id": "3459dd48",
   "metadata": {},
   "outputs": [],
   "source": [
    "# Q24 solution in Python\n",
    "p_math = 0.40\n",
    "p_science = 0.30\n",
    "p_both_math_science = 0.15\n",
    "probability_math_or_science = p_math + p_science - p_both_math_science\n",
    "print(probability_math_or_science)"
   ]
  }
 ],
 "metadata": {
  "kernelspec": {
   "display_name": "Python 3",
   "language": "python",
   "name": "python3"
  },
  "language_info": {
   "codemirror_mode": {
    "name": "ipython",
    "version": 3
   },
   "file_extension": ".py",
   "mimetype": "text/x-python",
   "name": "python",
   "nbconvert_exporter": "python",
   "pygments_lexer": "ipython3",
   "version": "3.13.2"
  }
 },
 "nbformat": 4,
 "nbformat_minor": 5
}
